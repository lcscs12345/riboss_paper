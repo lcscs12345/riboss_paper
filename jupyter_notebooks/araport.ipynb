{
 "cells": [
  {
   "cell_type": "code",
   "execution_count": 1,
   "id": "d75dfe2e-2c7b-4fae-be8d-f67b580a0b51",
   "metadata": {},
   "outputs": [],
   "source": [
    "import os\n",
    "import pandas as pd\n",
    "import numpy as np"
   ]
  },
  {
   "cell_type": "code",
   "execution_count": null,
   "id": "08f41fbc-e7d7-4d6a-9199-249c7a58c8d8",
   "metadata": {},
   "outputs": [],
   "source": [
    "# https://www.arabidopsis.org/download/file?path=Public_Data_Releases/TAIR_Data_20230930/TAIR_Data_20230930/Araport11_GTF_genes_transposons.Oct2023.gtf.gz\n",
    "# https://www.arabidopsis.org/download/file?path=Genes/Araport11_genome_release/Araport11_GTF_genes_transposons.current.gtf.gz\n",
    "\n",
    "# 6 MBOct 7, 2024\n",
    "! wget https://www.arabidopsis.org/download/file?path=Genes/TAIR10_genome_release/TAIR10_chromosome_files/TAIR10_chr_all.fas.gz \\\n",
    "-O ../ref/TAIR10_chr_all.fas.gz\n",
    "! gunzip ../ref/TAIR10_chr_all.fas.gz\n",
    "\n",
    "! wget https://www.arabidopsis.org/api/download-files/download?filePath=Genes/Araport11_genome_release/Araport11_GTF_genes_transposons.current.gtf.gz \\\n",
    "-O ../ref/tair10/Araport11_GTF_genes_transposons.current.gtf.gz\n",
    "\n",
    "! gtfToGenePred -genePredExt -ignoreGroupsWithoutExons ../ref/tair10/Araport11_GTF_genes_transposons.current.gtf.gz stdout \\\n",
    "| genePredToBed stdin ../ref/tair10/Araport11_GTF_genes_transposons.current.bed\n",
    "\n",
    "! awk '$7!=$8' ../ref/tair10/Araport11_GTF_genes_transposons.current.bed > ../ref/tair10/Araport11_GTF_genes_transposons.current.pc.bed\n",
    "\n",
    "! zcat ../ref/tair10/Araport11_GTF_genes_transposons.current.gtf.gz \\\n",
    "| grep -i 'uorf' | sed 's/uORF/exon/' \\\n",
    "| gtfToGenePred -genePredExt -ignoreGroupsWithoutExons stdin stdout \\\n",
    "| awk 'BEGIN{OFS=\"\\t\"} {print $1,$2,$3,$4,$5,$4,$5,$8,$9,$10,$11,$12,$13,$14,$15}' \\\n",
    "> ../ref/tair10/Araport11_GTF_genes_transposons.current.uorfs.gp\n",
    "\n",
    "! bedtools getfasta -bed ../ref/tair10/Araport11_GTF_genes_transposons.current.pc.bed -fi ../ref/TAIR10_chr_all.fas \\\n",
    "-s -split -name -fo ../ref/tair10/Araport11_GTF_genes_transposons.current.pc.fa"
   ]
  },
  {
   "cell_type": "markdown",
   "id": "8048583d-bcf6-4010-bf31-9ef5a498667b",
   "metadata": {},
   "source": [
    "##### Remove uORFs that have no AUG start codons"
   ]
  },
  {
   "cell_type": "code",
   "execution_count": 2,
   "id": "7ad25ea1-4cd5-4b70-821b-a19390c66ae7",
   "metadata": {},
   "outputs": [
    {
     "name": "stdout",
     "output_type": "stream",
     "text": [
      "170 ../ref/tair10/Araport11_GTF_genes_transposons.current.uorfs.bed\n"
     ]
    }
   ],
   "source": [
    "! genePredToBed ../ref/tair10/Araport11_GTF_genes_transposons.current.uorfs.gp ../ref/tair10/Araport11_GTF_genes_transposons.current.uorfs.bed\n",
    "\n",
    "! awk 'BEGIN{OFS=\"\\t\"} {print $1,$7,$8,$4,$5,$6}' ../ref/tair10/Araport11_GTF_genes_transposons.current.pc.bed \\\n",
    "| bedtools intersect -a ../ref/tair10/Araport11_GTF_genes_transposons.current.uorfs.bed -b - -s -split -wao \\\n",
    "| awk '$NF==0' | cut -f-12 > ../ref/tair10/Araport11_GTF_genes_transposons.current.uorfs.uniq.bed\n",
    "\n",
    "! wc -l ../ref/tair10/Araport11_GTF_genes_transposons.current.uorfs.bed"
   ]
  },
  {
   "cell_type": "code",
   "execution_count": 3,
   "id": "d733fa03-7878-4f22-ada3-4d1d487357fe",
   "metadata": {},
   "outputs": [
    {
     "name": "stdout",
     "output_type": "stream",
     "text": [
      "166 ../ref/tair10/Araport11_GTF_genes_transposons.current.uorfs.uniq.bed\n"
     ]
    }
   ],
   "source": [
    "! wc -l ../ref/tair10/Araport11_GTF_genes_transposons.current.uorfs.uniq.bed"
   ]
  },
  {
   "cell_type": "code",
   "execution_count": 4,
   "id": "80f005f1-b54a-4fd3-aab5-1c6bc2f09d63",
   "metadata": {},
   "outputs": [],
   "source": [
    "! bedtools getfasta -bed ../ref/tair10/Araport11_GTF_genes_transposons.current.uorfs.uniq.bed -fi ../ref/tair10/TAIR10_chr_all.fas -split -name -s -tab \\\n",
    "| cut -f2 | cut -c-3 \\\n",
    "| paste - ../ref/tair10/Araport11_GTF_genes_transposons.current.uorfs.uniq.bed \\\n",
    "| awk '/^ATG/' | cut -f2- \\\n",
    "> ../ref/tair10/Araport11_GTF_genes_transposons.current.uorfs.uniq.bed2"
   ]
  },
  {
   "cell_type": "code",
   "execution_count": 5,
   "id": "62a61d27-69e9-4cbb-afc4-2cdcf3855338",
   "metadata": {},
   "outputs": [],
   "source": [
    "! bedtools getfasta -bed ../ref/tair10/Araport11_GTF_genes_transposons.current.uorfs.uniq.bed2 -fi ../ref/tair10/TAIR10_chr_all.fas -split -name -s -tab \\\n",
    "| cut -f2 | rev | cut -c-3 \\\n",
    "| paste - ../ref/tair10/Araport11_GTF_genes_transposons.current.uorfs.uniq.bed2 \\\n",
    "| awk '!/^GAC/' | cut -f2- \\\n",
    "> ../ref/tair10/Araport11_GTF_genes_transposons.current.uorfs.uniq.bed"
   ]
  },
  {
   "cell_type": "code",
   "execution_count": 6,
   "id": "8cb07198-965a-407c-b51a-2d9887963b3c",
   "metadata": {},
   "outputs": [
    {
     "name": "stdout",
     "output_type": "stream",
     "text": [
      "161 ../ref/tair10/Araport11_GTF_genes_transposons.current.uorfs.uniq.bed\n"
     ]
    }
   ],
   "source": [
    "! wc -l ../ref/tair10/Araport11_GTF_genes_transposons.current.uorfs.uniq.bed"
   ]
  },
  {
   "cell_type": "markdown",
   "id": "4765e932-5de0-4574-a247-603463c0157f",
   "metadata": {},
   "source": [
    "#### Compare ORFs found in RIBOSS orf_finder and ribotricer index"
   ]
  },
  {
   "cell_type": "code",
   "execution_count": 7,
   "id": "d998b8ef-8116-4a99-8f77-7e217173ef01",
   "metadata": {},
   "outputs": [],
   "source": [
    "rt_candidate_orfs = pd.read_csv('../ref/tair10/TAIR10_chr_all_candidate_orfs.tsv', sep='\\t')\n",
    "# rt_candidate_orfs = rt_candidate_orfs[rt_candidate_orfs.transcript_type.str.contains('protein_coding')].copy()\n",
    "\n",
    "df = pd.read_pickle('../ref/tair10/Araport11_GTF_genes_transposons.current.orf_finder.pkl.gz')\n",
    "dfp = df[df['Strand']=='+'].copy()\n",
    "dfm = df[df['Strand']=='-'].copy()\n",
    "dfp['ORF_ID'] = dfp.tid + '_' + (dfp.Start + 1).astype(int).astype(str) + '_' + (dfp.End - 3).astype(int).astype(str) + '_' + (dfp.ORF_length - 3).astype(int).astype(str)\n",
    "dfm['ORF_ID'] = dfm.tid + '_' + (dfm.Start + 4).astype(int).astype(str) + '_' + (dfm.End).astype(int).astype(str) + '_' + (dfm.ORF_length - 3).astype(int).astype(str)\n",
    "\n",
    "df = pd.concat([dfp,dfm])\n",
    "df_rt = pd.merge(df,rt_candidate_orfs, on='ORF_ID', how='outer')"
   ]
  },
  {
   "cell_type": "code",
   "execution_count": 8,
   "id": "a47b7b3c-b2b2-4ee8-a4d0-ab1b17576f03",
   "metadata": {},
   "outputs": [],
   "source": [
    "rt_candidate_orfs[['tid','Start','End','ORF_length']] = rt_candidate_orfs.ORF_ID.str.split('_', expand=True)\n",
    "rt_candidate_orfs[['chrom','Start','End','tid','ORF_length','strand']].to_csv('../ref/tair10/TAIR10_chr_all_candidate_orfs.bed', header=None, index=None, sep='\\t')"
   ]
  },
  {
   "cell_type": "code",
   "execution_count": 9,
   "id": "e6f7b9a9-be78-4e3a-b08c-33b0d3d01b33",
   "metadata": {},
   "outputs": [
    {
     "data": {
      "text/plain": [
       "((109339, 22),\n",
       " (634108, 22),\n",
       " (455905, 12),\n",
       " (407757, 12),\n",
       " (287542, 15),\n",
       " (239353, 15))"
      ]
     },
     "execution_count": 9,
     "metadata": {},
     "output_type": "execute_result"
    }
   ],
   "source": [
    "df_rt.dropna().shape, df_rt.shape, df.shape, df[df.ORF_type!='mORF'].shape, rt_candidate_orfs.shape, rt_candidate_orfs[rt_candidate_orfs.ORF_type!='annotated'].shape"
   ]
  },
  {
   "cell_type": "markdown",
   "id": "59c9ef9b-8f20-4568-a092-ea39e9260e0c",
   "metadata": {},
   "source": [
    "109339 are in common between RIBOSS orf_finder and ribotricer index"
   ]
  },
  {
   "cell_type": "code",
   "execution_count": 10,
   "id": "600cd2f6-14c0-45fe-b364-ea6b2e3ac293",
   "metadata": {},
   "outputs": [],
   "source": [
    "df_rt.dropna(inplace=True)\n",
    "df_rt['oid'] = df_rt.tid + '__' + df_rt.ORF_start.astype(int).astype(str) + '-' + df_rt.ORF_end.astype(int).astype(str)\n",
    "df_rt[['oid','ORF_ID']].to_csv('../ref/tair10/orf_finder_ribotricer.intersection.txt', index=None, sep='\\t')"
   ]
  },
  {
   "cell_type": "markdown",
   "id": "2d5b10a5-c7b6-42c9-9581-d4f821d6d465",
   "metadata": {},
   "source": [
    "#### Ribo-Seq ORFs found by RIBOSS orf_finder and ribotricer index"
   ]
  },
  {
   "cell_type": "code",
   "execution_count": 11,
   "id": "4f9a31f0-867c-4c6a-9b4a-92528c12ccc8",
   "metadata": {},
   "outputs": [],
   "source": [
    "df = pd.read_pickle('../ref/tair10/Araport11_GTF_genes_transposons.current.orf_finder.pkl.gz')\n",
    "df['Start'] = df.Start.astype(int)\n",
    "df['End'] = df.End.astype(int)\n",
    "\n",
    "df.drop('ORF_range', axis=1, inplace=True)\n",
    "df.to_csv('../results/wu_2024_datasets/orf_finder/Araport11_GTF_genes_transposons.current.orf_finder.txt', index=None, sep='\\t')"
   ]
  },
  {
   "cell_type": "code",
   "execution_count": 12,
   "id": "11107816-3b54-492f-b5fe-9a576f08e82b",
   "metadata": {},
   "outputs": [],
   "source": [
    "! awk 'NR>1 && !/annotated/ && gsub(/_/, \"\\t\", $1) {print $8,$1,$9,$2}' ../ref/tair10/TAIR10_chr_all_candidate_orfs.tsv \\\n",
    "| awk 'BEGIN{OFS=\"\\t\"}{print $1,$3,$4,$2 \"|\" $7,$5,$6}' \\\n",
    "| bedtools intersect -a - -b ../ref/tair10/Araport11_GTF_genes_transposons.current.uorfs.uniq.bed -s -split -wo \\\n",
    "| awk '(($2==$8) || ($3==$9)) || (($2-1)==$8) || ($3==$9)' \\\n",
    "> ../ref/tair10/Araport11_GTF_genes_transposons.ribotricer.txt\n",
    "\n",
    "! awk 'BEGIN{OFS=\"\\t\"} NR>1 {print $1,$8,$9,$2 \"__\" $5 \"-\" $6 \"|\" $NF,$7,$3}' ../results/wu_2024_datasets/orf_finder/Araport11_GTF_genes_transposons.current.orf_finder.txt \\\n",
    "| bedtools intersect -a - -b ../ref/tair10/Araport11_GTF_genes_transposons.current.uorfs.uniq.bed -s -split -wo \\\n",
    "| awk '(($2==$8) || ($3==$9))' \\\n",
    "> ../ref/tair10/Araport11_GTF_genes_transposons.orf_finder.txt\n",
    "\n",
    "! comm -12 \\\n",
    "<(cut -f10 ../ref/tair10/Araport11_GTF_genes_transposons.ribotricer.txt | sort -u) \\\n",
    "<(cut -f10 ../ref/tair10/Araport11_GTF_genes_transposons.orf_finder.txt | sort -u) \\\n",
    "> ../ref/tair10/Araport11_GTF_genes_transposons.ribotricer.intersection.txt\n",
    "\n",
    "! comm -23 \\\n",
    "<(cut -f10 ../ref/tair10/Araport11_GTF_genes_transposons.ribotricer.txt | sort -u) \\\n",
    "<(cut -f10 ../ref/tair10/Araport11_GTF_genes_transposons.orf_finder.txt | sort -u) \\\n",
    "> ../ref/tair10/Araport11_GTF_genes_transposons.ribotricer.uniq.txt\n",
    "\n",
    "! comm -13 \\\n",
    "<(cut -f10 ../ref/tair10/Araport11_GTF_genes_transposons.ribotricer.txt | sort -u) \\\n",
    "<(cut -f10 ../ref/tair10/Araport11_GTF_genes_transposons.orf_finder.txt | sort -u) \\\n",
    "> ../ref/tair10/Araport11_GTF_genes_transposons.orf_finder.uniq.txt"
   ]
  },
  {
   "cell_type": "code",
   "execution_count": 13,
   "id": "912fd516-3838-4595-9b7e-860cad6b74c2",
   "metadata": {},
   "outputs": [
    {
     "name": "stdout",
     "output_type": "stream",
     "text": [
      "150 ../ref/tair10/Araport11_GTF_genes_transposons.orf_finder.txt\n"
     ]
    }
   ],
   "source": [
    "! wc -l ../ref/tair10/Araport11_GTF_genes_transposons.orf_finder.txt"
   ]
  },
  {
   "cell_type": "code",
   "execution_count": 14,
   "id": "cb5538ed-cac0-472b-8f5d-714a674e3b4f",
   "metadata": {},
   "outputs": [
    {
     "data": {
      "text/plain": [
       "(86, 21)"
      ]
     },
     "execution_count": 14,
     "metadata": {},
     "output_type": "execute_result"
    }
   ],
   "source": [
    "rs_of = pd.read_csv('../ref/tair10/Araport11_GTF_genes_transposons.orf_finder.txt', sep='\\t', header=None)\n",
    "rs_of['ORF_length'] = rs_of[16].apply(lambda x: np.sum([int(i) for i in x.split(',')[:-1]]))\n",
    "rs_of = rs_of[rs_of[4]==rs_of.ORF_length].copy()\n",
    "rs_of['oid'] = rs_of[3].str.split('|').str[0]\n",
    "\n",
    "rs_of.rename(columns={9:'Araport_uORF'}, inplace=True)\n",
    "rs_of.shape\n",
    "rs_of.drop_duplicates('Araport_uORF').shape"
   ]
  },
  {
   "cell_type": "code",
   "execution_count": 15,
   "id": "802fb0d1-266f-4dda-9e0a-80d345d839c1",
   "metadata": {},
   "outputs": [
    {
     "data": {
      "text/plain": [
       "(81, 21)"
      ]
     },
     "execution_count": 15,
     "metadata": {},
     "output_type": "execute_result"
    }
   ],
   "source": [
    "rs_rt = pd.read_csv('../ref/tair10/Araport11_GTF_genes_transposons.ribotricer.txt', sep='\\t', header=None)\n",
    "rs_rt['ORF_ID'] = rs_rt[3].str.split('|').str[0] + '_' + rs_rt[1].astype(str) + '_' + rs_rt[2].astype(str) + '_' + rs_rt[4].astype(str)\n",
    "rs_rt.rename(columns={9:'Araport_uORF'}, inplace=True)\n",
    "\n",
    "rs_rt['ORF_length'] = rs_rt[16].apply(lambda x: np.sum([int(i) for i in x.split(',')[:-1]]))\n",
    "rs_rt = rs_rt[(rs_rt[4]+3)==rs_rt.ORF_length].copy()\n",
    "rs_rt.drop_duplicates('Araport_uORF').shape"
   ]
  },
  {
   "cell_type": "markdown",
   "id": "c3cac0ef-a79b-449d-94e0-63d9ce37d639",
   "metadata": {},
   "source": [
    "##### Get a list of Ribo-Seq ORF in common"
   ]
  },
  {
   "cell_type": "code",
   "execution_count": 16,
   "id": "af0e2b45-166d-46e8-8861-6e5d8d26e1a3",
   "metadata": {},
   "outputs": [
    {
     "data": {
      "text/plain": [
       "78"
      ]
     },
     "execution_count": 16,
     "metadata": {},
     "output_type": "execute_result"
    }
   ],
   "source": [
    "set_rs_rt = set(rs_rt['Araport_uORF'].tolist())\n",
    "set_rs_of = set(rs_of['Araport_uORF'].tolist())\n",
    "\n",
    "len(set_rs_rt.intersection(set_rs_of))"
   ]
  },
  {
   "cell_type": "code",
   "execution_count": 17,
   "id": "54601e7a-eeed-4cb7-bf0c-970fbcd4674b",
   "metadata": {},
   "outputs": [],
   "source": [
    "# len(set_rs_rt.union(set_rs_of))\n",
    "pd.DataFrame({'Araport_uORF':list(set_rs_rt.intersection(set_rs_of))}).to_csv('../ref/tair10/Araport_uORF.intersection.txt', index=None)"
   ]
  },
  {
   "cell_type": "code",
   "execution_count": null,
   "id": "089dd9e7-30c7-4280-9376-8a7f8990ce98",
   "metadata": {},
   "outputs": [],
   "source": []
  }
 ],
 "metadata": {
  "kernelspec": {
   "display_name": "Python 3 (ipykernel)",
   "language": "python",
   "name": "python3"
  },
  "language_info": {
   "codemirror_mode": {
    "name": "ipython",
    "version": 3
   },
   "file_extension": ".py",
   "mimetype": "text/x-python",
   "name": "python",
   "nbconvert_exporter": "python",
   "pygments_lexer": "ipython3",
   "version": "3.12.7"
  }
 },
 "nbformat": 4,
 "nbformat_minor": 5
}
