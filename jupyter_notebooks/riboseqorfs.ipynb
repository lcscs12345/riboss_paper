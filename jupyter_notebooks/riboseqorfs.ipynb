{
 "cells": [
  {
   "cell_type": "markdown",
   "id": "41a3708d-e1a1-4e31-ab8c-ea790b78efd4",
   "metadata": {},
   "source": [
    "### Parse the supplementary files of Ribo-seq ORFs preprints"
   ]
  },
  {
   "cell_type": "code",
   "execution_count": 1,
   "id": "cff99cb0-38dd-4c4e-9a8d-85ee5208071f",
   "metadata": {},
   "outputs": [],
   "source": [
    "import pandas as pd\n",
    "import numpy as np\n",
    "import matplotlib.pyplot as plt\n",
    "import seaborn as sns\n",
    "import pyranges as pr"
   ]
  },
  {
   "cell_type": "code",
   "execution_count": 2,
   "id": "866679e7-1398-498e-8ec7-5651ec048b31",
   "metadata": {},
   "outputs": [
    {
     "data": {
      "text/plain": [
       "((183, 27), (1785, 26))"
      ]
     },
     "execution_count": 2,
     "metadata": {},
     "output_type": "execute_result"
    }
   ],
   "source": [
    "ncorfs = pd.read_excel('../doc/riboseqorfs/media-3.xlsx', sheet_name='Table S3')\n",
    "horfs = pd.read_excel('../doc/riboseqorfs/media-5.xlsx', sheet_name='Table S5')\n",
    "ncorfs.shape, horfs.shape"
   ]
  },
  {
   "cell_type": "code",
   "execution_count": 3,
   "id": "3d67b61d-cdfa-4d94-8f0c-dc3bb17ef72a",
   "metadata": {},
   "outputs": [
    {
     "data": {
      "text/plain": [
       "((181, 27), (183, 27))"
      ]
     },
     "execution_count": 3,
     "metadata": {},
     "output_type": "execute_result"
    }
   ],
   "source": [
    "ncorfs.drop_duplicates('gene_id').shape, ncorfs.drop_duplicates(['transcript', 'gene_id']).shape"
   ]
  },
  {
   "cell_type": "code",
   "execution_count": 4,
   "id": "9eafe753-c112-4b62-874f-ba2f490f5e7d",
   "metadata": {},
   "outputs": [
    {
     "data": {
      "text/plain": [
       "((1563, 26), (1671, 26))"
      ]
     },
     "execution_count": 4,
     "metadata": {},
     "output_type": "execute_result"
    }
   ],
   "source": [
    "horfs.drop_duplicates('gene_id').shape, horfs.drop_duplicates(['transcript', 'gene_id']).shape"
   ]
  },
  {
   "cell_type": "code",
   "execution_count": 5,
   "id": "adb71352-d29a-453d-8fc5-e293c58f633b",
   "metadata": {},
   "outputs": [
    {
     "data": {
      "text/plain": [
       "((87, 27), (1371, 26))"
      ]
     },
     "execution_count": 5,
     "metadata": {},
     "output_type": "execute_result"
    }
   ],
   "source": [
    "ncorfs = ncorfs[(ncorfs['HPP.Category']!='FP') & (ncorfs['orf_biotype']!='PT') & (ncorfs['orf_biotype']!='lncRNA-ORF')]\n",
    "horfs = horfs[(horfs['orf_biotype']!='PT') & (horfs['orf_biotype']!='lncRNA-ORF')]\n",
    "ncorfs.shape, horfs.shape"
   ]
  },
  {
   "cell_type": "code",
   "execution_count": 6,
   "id": "4c470e70-51e3-4163-a90c-7c87c980ea3a",
   "metadata": {},
   "outputs": [
    {
     "data": {
      "text/plain": [
       "orf_biotype\n",
       "uORF      41\n",
       "uoORF     19\n",
       "dORF      17\n",
       "intORF     7\n",
       "doORF      3\n",
       "Name: count, dtype: int64"
      ]
     },
     "execution_count": 6,
     "metadata": {},
     "output_type": "execute_result"
    }
   ],
   "source": [
    "ncorfs.value_counts('orf_biotype')"
   ]
  },
  {
   "cell_type": "code",
   "execution_count": 7,
   "id": "b09b6860-fb4a-4068-8bf8-aeda8c237a00",
   "metadata": {},
   "outputs": [
    {
     "data": {
      "text/plain": [
       "orf_biotype\n",
       "uORF      792\n",
       "intORF    241\n",
       "uoORF     241\n",
       "dORF       77\n",
       "doORF      20\n",
       "Name: count, dtype: int64"
      ]
     },
     "execution_count": 7,
     "metadata": {},
     "output_type": "execute_result"
    }
   ],
   "source": [
    "horfs.value_counts('orf_biotype')"
   ]
  },
  {
   "cell_type": "code",
   "execution_count": 8,
   "id": "2a69c8a3-4a32-4e8d-a872-52cb95154742",
   "metadata": {},
   "outputs": [
    {
     "data": {
      "text/plain": [
       "(1426, 34)"
      ]
     },
     "execution_count": 8,
     "metadata": {},
     "output_type": "execute_result"
    }
   ],
   "source": [
    "norfs = pd.concat([ncorfs,horfs.rename(columns={'Category':'HPP.Category'})])\n",
    "norfs.drop_duplicates('Ribo-Seq_ORF', inplace=True)\n",
    "norfs.shape"
   ]
  },
  {
   "cell_type": "code",
   "execution_count": 9,
   "id": "167f8eeb-4217-4900-b8e0-8df155cd688c",
   "metadata": {},
   "outputs": [
    {
     "data": {
      "text/plain": [
       "(1329,)"
      ]
     },
     "execution_count": 9,
     "metadata": {},
     "output_type": "execute_result"
    }
   ],
   "source": [
    "norfs['transcript'].unique().shape"
   ]
  },
  {
   "cell_type": "markdown",
   "id": "9e8c0665-b0fb-443b-ade4-7e1afa55c831",
   "metadata": {},
   "source": [
    "#### Convert dataframe to genePred format"
   ]
  },
  {
   "cell_type": "code",
   "execution_count": 10,
   "id": "722ed906-051a-43c8-afcd-4cdfd900a39d",
   "metadata": {},
   "outputs": [],
   "source": [
    "norfs['chrm'] = 'chr' + norfs['chrm'].astype(str)\n",
    "\n",
    "norfs['starts'] = norfs.starts.str.split(';').apply(lambda x: [int(i)-1 for i in x])\n",
    "norfs['exonCount'] = norfs.starts.apply(len)\n",
    "norfs['start'] = norfs['starts'].apply(lambda x: np.min(x))\n",
    "norfs['ends'] = norfs.ends.str.split(';').apply(lambda x: [int(i) for i in x])\n",
    "norfs['end'] = norfs['ends'].apply(lambda x: np.max(x))\n",
    "norfs['exonStarts'] = norfs.starts.apply(lambda x: ','.join([str(i) for i in x])) + ','\n",
    "norfs['exonEnds'] = norfs.ends.apply(lambda x: ','.join([str(i) for i in x])) + ','\n",
    "norfs.to_pickle('../doc/riboseqorfs/riboseqorfs.pkl.gz')\n",
    "\n",
    "gp = norfs[['Ribo-Seq_ORF','chrm','strand','start','end','start','end','exonCount','exonStarts','exonEnds']]\n",
    "gp.to_csv('../doc/riboseqorfs/riboseqorfs.gp', header=False, index=False, sep='\\t')"
   ]
  },
  {
   "cell_type": "markdown",
   "id": "95918c3f-637e-4441-b161-782b51b81109",
   "metadata": {},
   "source": [
    "#### Get no overlapping Ribo-Seq ORFs"
   ]
  },
  {
   "cell_type": "code",
   "execution_count": 11,
   "id": "fe9b4226-5ef5-4699-aa19-4cacef865e2e",
   "metadata": {},
   "outputs": [],
   "source": [
    "! genePredToBed ../doc/riboseqorfs/riboseqorfs.gp ../doc/riboseqorfs/riboseqorfs.bed\n",
    "\n",
    "! awk 'BEGIN{OFS=\"\\t\"} {print $1,$7,$8,$4,$5,$6}' ../ref/hg38/gencode.v47.annotation.bed \\\n",
    "| bedtools intersect -a ../doc/riboseqorfs/riboseqorfs.bed -b - -s -split -wao \\\n",
    "| awk '$NF==0' | cut -f-12 > ../doc/riboseqorfs/riboseqorfs.uniq.bed"
   ]
  },
  {
   "cell_type": "markdown",
   "id": "30430ed9-b282-44ff-a0f8-780d9536d023",
   "metadata": {},
   "source": [
    "#### Validate the genePred file for Ribo-seq_ORFs"
   ]
  },
  {
   "cell_type": "code",
   "execution_count": 13,
   "id": "79a58b46-a46c-482c-b403-b7bfa785d745",
   "metadata": {},
   "outputs": [
    {
     "name": "stdout",
     "output_type": "stream",
     "text": [
      "     30 atg\n",
      "      6 ATg\n",
      "    655 ATG\n"
     ]
    }
   ],
   "source": [
    "! bedtools getfasta -bed ../doc/riboseqorfs/riboseqorfs.uniq.bed -fi ../ref/hg38/hg38.fa -split -name -s -tab \\\n",
    "| cut -f2 | cut -c-3 | sort | uniq -c"
   ]
  },
  {
   "cell_type": "code",
   "execution_count": 14,
   "id": "d68b4a7e-8a2b-4fda-88a3-6610ded05f0e",
   "metadata": {},
   "outputs": [
    {
     "name": "stdout",
     "output_type": "stream",
     "text": [
      "     12 aat\n",
      "      1 AAt\n",
      "    170 AAT\n",
      "     29 agt\n",
      "      1 Agt\n",
      "    321 AGT\n",
      "      5 gat\n",
      "      1 gaT\n",
      "    151 GAT\n"
     ]
    }
   ],
   "source": [
    "! bedtools getfasta -bed ../doc/riboseqorfs/riboseqorfs.uniq.bed -fi ../ref/hg38/hg38.fa -split -name -s -tab \\\n",
    "| cut -f2 | rev | cut -c-3 | sort | uniq -c"
   ]
  },
  {
   "cell_type": "markdown",
   "id": "bbe9ce46-45f9-41cc-9350-46e2ce1a6357",
   "metadata": {},
   "source": [
    "#### Compare ORFs found in RIBOSS orf_finder and ribotricer index"
   ]
  },
  {
   "cell_type": "code",
   "execution_count": 1,
   "id": "f0b78e66-fcbb-4a98-9167-1b49a684a29c",
   "metadata": {},
   "outputs": [],
   "source": [
    "import pandas as pd\n",
    "\n",
    "rt_candidate_orfs = pd.read_csv('../ref/hg38/hg38_candidate_orfs.tsv', sep='\\t')\n",
    "# rt_candidate_orfs = rt_candidate_orfs[rt_candidate_orfs.transcript_type.str.contains('protein_coding')].copy()\n",
    "\n",
    "df = pd.read_pickle('../ref/hg38/gencode.v47.annotation.orf_finder.pkl.gz')\n",
    "dfp = df[df['Strand']=='+'].copy()\n",
    "dfm = df[df['Strand']=='-'].copy()\n",
    "dfp['ORF_ID'] = dfp.tid + '_' + (dfp.Start + 1).astype(int).astype(str) + '_' + (dfp.End - 3).astype(int).astype(str) + '_' + (dfp.ORF_length - 3).astype(int).astype(str)\n",
    "dfm['ORF_ID'] = dfm.tid + '_' + (dfm.Start + 4).astype(int).astype(str) + '_' + (dfm.End).astype(int).astype(str) + '_' + (dfm.ORF_length - 3).astype(int).astype(str)\n",
    "\n",
    "df = pd.concat([dfp,dfm])\n",
    "df_rt = pd.merge(df,rt_candidate_orfs, on='ORF_ID', how='outer')\n",
    "\n",
    "rt_candidate_orfs[['tid','Start','End','ORF_length']] = rt_candidate_orfs.ORF_ID.str.split('_', expand=True)\n",
    "rt_candidate_orfs[['chrom','Start','End','tid','ORF_length','strand']].to_csv('../ref/hg38/hg38_candidate_orfs.bed', header=None, index=None, sep='\\t')"
   ]
  },
  {
   "cell_type": "code",
   "execution_count": 2,
   "id": "4d10c8c6-c6b3-4535-aa8a-685217179ca9",
   "metadata": {},
   "outputs": [
    {
     "data": {
      "text/plain": [
       "((489794, 22),\n",
       " (3945234, 22),\n",
       " (1484629, 12),\n",
       " (1397050, 12),\n",
       " (2950399, 11),\n",
       " (2851239, 11))"
      ]
     },
     "execution_count": 2,
     "metadata": {},
     "output_type": "execute_result"
    }
   ],
   "source": [
    "df_rt.dropna().shape, df_rt.shape, df.shape, df[df.ORF_type!='mORF'].shape, rt_candidate_orfs.shape, rt_candidate_orfs[rt_candidate_orfs.ORF_type!='annotated'].shape"
   ]
  },
  {
   "cell_type": "markdown",
   "id": "8d74a755-4a83-473e-8762-962ce5776de1",
   "metadata": {},
   "source": [
    "489794 ORFs are in common between RIBOSS orf_finder and ribotricer index"
   ]
  },
  {
   "cell_type": "code",
   "execution_count": 8,
   "id": "0d71a33f-bc88-41c2-908c-87decd7aa572",
   "metadata": {},
   "outputs": [],
   "source": [
    "df_rt.dropna(inplace=True)\n",
    "df_rt['oid'] = df_rt.tid + '__' + df_rt.ORF_start.astype(int).astype(str) + '-' + df_rt.ORF_end.astype(int).astype(str)\n",
    "df_rt[['oid','ORF_ID']].to_csv('../ref/hg38/orf_finder_ribotricer.intersection.txt', index=None, sep='\\t')"
   ]
  },
  {
   "cell_type": "markdown",
   "id": "db9ce26d-c80f-47ac-8e62-1d6585ddf0d4",
   "metadata": {},
   "source": [
    "#### Ribo-Seq ORFs found by RIBOSS orf_finder and ribotricer index"
   ]
  },
  {
   "cell_type": "code",
   "execution_count": 2,
   "id": "c18fe2df-6fca-45ac-b5ab-a8ef23841ff8",
   "metadata": {},
   "outputs": [],
   "source": [
    "df = pd.read_pickle('../ref/hg38/gencode.v47.annotation.orf_finder.pkl.gz')\n",
    "df['Start'] = df.Start.astype(int)\n",
    "df['End'] = df.End.astype(int)\n",
    "\n",
    "df.drop('ORF_range', axis=1, inplace=True)\n",
    "df.to_csv('../results/park_2016_datasets/orf_finder/gencode.v47.annotation.orf_finder.txt', index=None, sep='\\t')"
   ]
  },
  {
   "cell_type": "code",
   "execution_count": 3,
   "id": "8afc44be-5f53-4f49-a231-8d094ba12d05",
   "metadata": {},
   "outputs": [],
   "source": [
    "! awk 'NR>1 && !/annotated/ && gsub(/_/, \"\\t\", $1) {print $8,$1,$9,$2}' ../ref/hg38/hg38_ucsc_candidate_orfs.tsv | awk 'BEGIN{OFS=\"\\t\"}{print $1,$3,$4,$2 \"|\" $7,$5,$6}' \\\n",
    "| bedtools intersect -a - -b ../doc/riboseqorfs/riboseqorfs.uniq.bed -s -split -wo | awk '(($2==$8) || ($3==$9)) || (($2-1)==$8) || ($3==$9)' \\\n",
    "> ../doc/riboseqorfs/riboseqorfs.ribotricer.txt\n",
    "\n",
    "! awk 'BEGIN{OFS=\"\\t\"} NR>1 {print $1,$8,$9,$2 \"__\" $5 \"-\" $6 \"|\" $NF,$7,$3}' ../results/park_2016_datasets/orf_finder/gencode.v47.annotation.orf_finder.txt \\\n",
    "| bedtools intersect -a - -b ../doc/riboseqorfs/riboseqorfs.uniq.bed -s -split -wo | awk '(($2==$8) || ($3==$9))' \\\n",
    "> ../doc/riboseqorfs/riboseqorfs.orf_finder.txt\n",
    "\n",
    "! comm -12 \\\n",
    "<(cut -f10 ../doc/riboseqorfs/riboseqorfs.ribotricer.txt | sort -u) \\\n",
    "<(cut -f10 ../doc/riboseqorfs/riboseqorfs.orf_finder.txt | sort -u) \\\n",
    "> ../doc/riboseqorfs/riboseqorfs.ribotricer.intersection.txt\n",
    "\n",
    "! comm -23 \\\n",
    "<(cut -f10 ../doc/riboseqorfs/riboseqorfs.ribotricer.txt | sort -u) \\\n",
    "<(cut -f10 ../doc/riboseqorfs/riboseqorfs.orf_finder.txt | sort -u) \\\n",
    "> ../doc/riboseqorfs/riboseqorfs.ribotricer.uniq.txt\n",
    "\n",
    "! comm -13 \\\n",
    "<(cut -f10 ../doc/riboseqorfs/riboseqorfs.ribotricer.txt | sort -u) \\\n",
    "<(cut -f10 ../doc/riboseqorfs/riboseqorfs.orf_finder.txt | sort -u) \\\n",
    "> ../doc/riboseqorfs/riboseqorfs.orf_finder.uniq.txt"
   ]
  },
  {
   "cell_type": "code",
   "execution_count": 4,
   "id": "e98ad979-16a3-4a7d-9c23-a1a560fccd96",
   "metadata": {},
   "outputs": [
    {
     "data": {
      "text/plain": [
       "(668, 21)"
      ]
     },
     "execution_count": 4,
     "metadata": {},
     "output_type": "execute_result"
    }
   ],
   "source": [
    "rs_of = pd.read_csv('../doc/riboseqorfs/riboseqorfs.orf_finder.txt', sep='\\t', header=None)\n",
    "rs_of['ORF_length'] = rs_of[16].apply(lambda x: np.sum([int(i) for i in x.split(',')[:-1]]))\n",
    "rs_of = rs_of[rs_of[4]==rs_of.ORF_length].copy()\n",
    "rs_of['oid'] = rs_of[3].str.split('|').str[0]\n",
    "rs_of.rename(columns={9:'Ribo-Seq_ORF'}, inplace=True)\n",
    "rs_of.shape\n",
    "rs_of.drop_duplicates('Ribo-Seq_ORF').shape"
   ]
  },
  {
   "cell_type": "code",
   "execution_count": 5,
   "id": "c3847475-89ae-4848-90a8-7e63501bf563",
   "metadata": {},
   "outputs": [
    {
     "data": {
      "text/plain": [
       "(586, 21)"
      ]
     },
     "execution_count": 5,
     "metadata": {},
     "output_type": "execute_result"
    }
   ],
   "source": [
    "rs_rt = pd.read_csv('../doc/riboseqorfs/riboseqorfs.ribotricer.txt', sep='\\t', header=None)\n",
    "rs_rt['ORF_ID'] = rs_rt[3].str.split('|').str[0] + '_' + rs_rt[1].astype(str) + '_' + rs_rt[2].astype(str) + '_' + rs_rt[4].astype(str)\n",
    "rs_rt.rename(columns={9:'Ribo-Seq_ORF'}, inplace=True)\n",
    "\n",
    "rs_rt['ORF_length'] = rs_rt[16].apply(lambda x: np.sum([int(i) for i in x.split(',')[:-1]]))\n",
    "rs_rt = rs_rt[(rs_rt[4]+3)==rs_rt.ORF_length].copy()\n",
    "rs_rt.drop_duplicates('Ribo-Seq_ORF').shape"
   ]
  },
  {
   "cell_type": "markdown",
   "id": "13255ee2-5635-4d52-b50e-84cbbab91a83",
   "metadata": {},
   "source": [
    "##### Get a list of Ribo-Seq ORF in common"
   ]
  },
  {
   "cell_type": "code",
   "execution_count": 6,
   "id": "a3b89eff-e656-40d6-ba7d-b364611b4277",
   "metadata": {},
   "outputs": [
    {
     "data": {
      "text/plain": [
       "569"
      ]
     },
     "execution_count": 6,
     "metadata": {},
     "output_type": "execute_result"
    }
   ],
   "source": [
    "set_rs_rt = set(rs_rt['Ribo-Seq_ORF'].tolist())\n",
    "set_rs_of = set(rs_of['Ribo-Seq_ORF'].tolist())\n",
    "\n",
    "len(set_rs_rt.intersection(set_rs_of))"
   ]
  },
  {
   "cell_type": "code",
   "execution_count": 7,
   "id": "27abe4c9-d1e4-449d-a839-e6a6eaa0d5fa",
   "metadata": {},
   "outputs": [],
   "source": [
    "# len(set_rs_rt.union(set_rs_of))\n",
    "pd.DataFrame({'Ribo-Seq_ORF':list(set_rs_rt.intersection(set_rs_of))}).to_csv('../doc/riboseqorfs/riboseqorfs.intersection.txt', index=None)"
   ]
  },
  {
   "cell_type": "markdown",
   "id": "8e7d2112-7f69-40ba-89fb-54dbd521adcb",
   "metadata": {},
   "source": [
    "569 Ribo-Seq ORFs in protein-coding transcripts can be found by both orf_finder and ribotricer"
   ]
  },
  {
   "cell_type": "code",
   "execution_count": 11,
   "id": "81359c32-132b-48df-a410-aa6f3289086a",
   "metadata": {},
   "outputs": [
    {
     "data": {
      "text/plain": [
       "Index(['PeptideAtlas.identifier', 'Ribo-Seq_ORF', 'orf_biotype', 'chrm',\n",
       "       'starts', 'ends', 'strand', 'transcript', 'gene_id', 'gene_name',\n",
       "       'gene_biotype', 'rank', 'n_peptides_in_entry', 'HPP.Category',\n",
       "       'n_covered_residues.by.peptides.>=.8aa',\n",
       "       'Meets.HPP+.prior.to.manual.validation',\n",
       "       'Initial.tier.for.level.of.evidence.prior.to.manual.inspection',\n",
       "       'Final.tier.for.level.of.evidence', 'n_hla_peptides',\n",
       "       'n_other_mappings', 'Other.mappings',\n",
       "       'Manual.inspection.of.GWIPS-Viz.RiboSeq.Data', 'PIF', 'Uniformity',\n",
       "       'RiboSeq_data_source', 'Commentary.on.peptide.evidence',\n",
       "       'Commentary.on.annotation', 'orf_length', 'n_psms',\n",
       "       'n_covered_residues', 'Percent.coverage', 'other_mappings',\n",
       "       'Riboseq_data_source', 'Riboseq notes', 'exonCount', 'start', 'end',\n",
       "       'exonStarts', 'exonEnds'],\n",
       "      dtype='object')"
      ]
     },
     "execution_count": 11,
     "metadata": {},
     "output_type": "execute_result"
    }
   ],
   "source": [
    "norfs = pd.read_pickle('../doc/riboseqorfs/riboseqorfs.pkl.gz')\n",
    "norfs.columns"
   ]
  },
  {
   "cell_type": "code",
   "execution_count": 12,
   "id": "6b0783a1-4870-4b55-a6e5-2b8c049ed2d6",
   "metadata": {},
   "outputs": [
    {
     "data": {
      "text/plain": [
       "(1426, 39)"
      ]
     },
     "execution_count": 12,
     "metadata": {},
     "output_type": "execute_result"
    }
   ],
   "source": [
    "norfs.shape"
   ]
  },
  {
   "cell_type": "code",
   "execution_count": 13,
   "id": "0cc6765c-32af-442e-b28c-1f11ab498752",
   "metadata": {},
   "outputs": [
    {
     "data": {
      "text/plain": [
       "gene_biotype\n",
       "protein_coding    1426\n",
       "Name: count, dtype: int64"
      ]
     },
     "execution_count": 13,
     "metadata": {},
     "output_type": "execute_result"
    }
   ],
   "source": [
    "norfs.value_counts('gene_biotype')"
   ]
  },
  {
   "cell_type": "code",
   "execution_count": 14,
   "id": "317001ae-cc0a-48b1-8654-76a66fdb53e8",
   "metadata": {},
   "outputs": [
    {
     "data": {
      "text/plain": [
       "orf_biotype\n",
       "uORF      820\n",
       "uoORF     251\n",
       "intORF    244\n",
       "dORF       90\n",
       "doORF      21\n",
       "Name: count, dtype: int64"
      ]
     },
     "execution_count": 14,
     "metadata": {},
     "output_type": "execute_result"
    }
   ],
   "source": [
    "norfs.value_counts('orf_biotype')"
   ]
  },
  {
   "cell_type": "code",
   "execution_count": null,
   "id": "5c0a50c3-1024-41db-8e65-1d17f5172d56",
   "metadata": {},
   "outputs": [],
   "source": []
  },
  {
   "cell_type": "code",
   "execution_count": null,
   "id": "c4c2eb1c-8cde-4ca6-afa0-e89f55782822",
   "metadata": {},
   "outputs": [],
   "source": []
  },
  {
   "cell_type": "code",
   "execution_count": null,
   "id": "eeb97c6e-1406-49cb-9480-ebce97696dd9",
   "metadata": {},
   "outputs": [],
   "source": []
  },
  {
   "cell_type": "code",
   "execution_count": 3,
   "id": "0265305c-0a64-49c1-af1a-a7c311ff022a",
   "metadata": {},
   "outputs": [
    {
     "data": {
      "text/plain": [
       "((235, 19), (4, 19))"
      ]
     },
     "execution_count": 3,
     "metadata": {},
     "output_type": "execute_result"
    }
   ],
   "source": [
    "ribo_rt = pd.read_csv('../results/park_2016_datasets/ribotricer/SRR3306588_9_genomic.ribotricer__translating_ORFs.tsv', sep='\\t')\n",
    "ribo_rt = ribo_rt[ribo_rt.phase_score>0.592].copy()\n",
    "\n",
    "rna_rt = pd.read_csv('../results/park_2016_datasets/ribotricer/SRR3306581_2_genomic.ribotricer__translating_ORFs.tsv', sep='\\t')\n",
    "rna_rt = rna_rt[rna_rt.phase_score>0.592].copy()\n",
    "\n",
    "rs_rt_ribo = pd.merge(rs_rt[['ORF_ID','Ribo-Seq_ORF']],ribo_rt).sort_values('phase_score', ascending=False).drop_duplicates('Ribo-Seq_ORF')\n",
    "rs_rt_rna = pd.merge(rs_rt[['ORF_ID','Ribo-Seq_ORF']],rna_rt).sort_values('phase_score', ascending=False).drop_duplicates('Ribo-Seq_ORF')\n",
    "\n",
    "rs_rt_ribo.shape, rs_rt_rna.shape"
   ]
  },
  {
   "cell_type": "code",
   "execution_count": 6,
   "id": "fb852ce6-dfee-49b8-9f31-abaa48d90b57",
   "metadata": {},
   "outputs": [
    {
     "data": {
      "image/png": "[encoded data removed]",
      "text/plain": [
       "<Figure size 640x480 with 1 Axes>"
      ]
     },
     "metadata": {},
     "output_type": "display_data"
    }
   ],
   "source": [
    "sns.scatterplot(data=rs_rt_ribo, x='read_count', y='valid_codons')\n",
    "plt.xscale('log')\n",
    "plt.yscale('log')"
   ]
  },
  {
   "cell_type": "code",
   "execution_count": 8,
   "id": "5bf82f84-dd42-478d-8702-1a4f188ead60",
   "metadata": {},
   "outputs": [
    {
     "data": {
      "text/html": [
       "<div>\n",
       "<style scoped>\n",
       "    .dataframe tbody tr th:only-of-type {\n",
       "        vertical-align: middle;\n",
       "    }\n",
       "\n",
       "    .dataframe tbody tr th {\n",
       "        vertical-align: top;\n",
       "    }\n",
       "\n",
       "    .dataframe thead th {\n",
       "        text-align: right;\n",
       "    }\n",
       "</style>\n",
       "<table border=\"1\" class=\"dataframe\">\n",
       "  <thead>\n",
       "    <tr style=\"text-align: right;\">\n",
       "      <th></th>\n",
       "      <th>ORF_ID</th>\n",
       "      <th>Ribo-Seq_ORF</th>\n",
       "      <th>ORF_type</th>\n",
       "      <th>status</th>\n",
       "      <th>phase_score</th>\n",
       "      <th>read_count</th>\n",
       "      <th>length</th>\n",
       "      <th>valid_codons</th>\n",
       "      <th>valid_codons_ratio</th>\n",
       "      <th>read_density</th>\n",
       "      <th>transcript_id</th>\n",
       "      <th>transcript_type</th>\n",
       "      <th>gene_id</th>\n",
       "      <th>gene_name</th>\n",
       "      <th>gene_type</th>\n",
       "      <th>chrom</th>\n",
       "      <th>strand</th>\n",
       "      <th>start_codon</th>\n",
       "      <th>profile</th>\n",
       "    </tr>\n",
       "  </thead>\n",
       "  <tbody>\n",
       "    <tr>\n",
       "      <th>450</th>\n",
       "      <td>ENST00000522629.5_66775295_66793665_75</td>\n",
       "      <td>c8riboseqorf54</td>\n",
       "      <td>super_uORF</td>\n",
       "      <td>translating</td>\n",
       "      <td>0.721110</td>\n",
       "      <td>12</td>\n",
       "      <td>75</td>\n",
       "      <td>5</td>\n",
       "      <td>0.200000</td>\n",
       "      <td>0.480000</td>\n",
       "      <td>ENST00000522629.5</td>\n",
       "      <td>protein_coding</td>\n",
       "      <td>ENSG00000104205.16</td>\n",
       "      <td>SGK3</td>\n",
       "      <td>protein_coding</td>\n",
       "      <td>chr8</td>\n",
       "      <td>+</td>\n",
       "      <td>ATG</td>\n",
       "      <td>[0, 0, 0, 0, 0, 0, 0, 0, 0, 0, 0, 0, 0, 0, 0, ...</td>\n",
       "    </tr>\n",
       "    <tr>\n",
       "      <th>134</th>\n",
       "      <td>ENST00000263655.4_68319536_68319661_126</td>\n",
       "      <td>c2norep74</td>\n",
       "      <td>super_uORF</td>\n",
       "      <td>translating</td>\n",
       "      <td>1.000000</td>\n",
       "      <td>14</td>\n",
       "      <td>126</td>\n",
       "      <td>6</td>\n",
       "      <td>0.142857</td>\n",
       "      <td>0.333333</td>\n",
       "      <td>ENST00000263655.4</td>\n",
       "      <td>protein_coding</td>\n",
       "      <td>ENSG00000119865.9</td>\n",
       "      <td>CNRIP1</td>\n",
       "      <td>protein_coding</td>\n",
       "      <td>chr2</td>\n",
       "      <td>-</td>\n",
       "      <td>ATG</td>\n",
       "      <td>[0, 1, 0, 0, 0, 0, 1, 0, 0, 2, 0, 0, 0, 0, 0, ...</td>\n",
       "    </tr>\n",
       "    <tr>\n",
       "      <th>360</th>\n",
       "      <td>ENST00000469230.5_26383211_26383270_60</td>\n",
       "      <td>c6riboseqorf20</td>\n",
       "      <td>super_uORF</td>\n",
       "      <td>translating</td>\n",
       "      <td>0.978329</td>\n",
       "      <td>14</td>\n",
       "      <td>60</td>\n",
       "      <td>5</td>\n",
       "      <td>0.250000</td>\n",
       "      <td>0.700000</td>\n",
       "      <td>ENST00000469230.5</td>\n",
       "      <td>protein_coding</td>\n",
       "      <td>ENSG00000124508.17</td>\n",
       "      <td>BTN2A2</td>\n",
       "      <td>protein_coding</td>\n",
       "      <td>chr6</td>\n",
       "      <td>+</td>\n",
       "      <td>ATG</td>\n",
       "      <td>[1, 0, 0, 0, 0, 0, 0, 0, 0, 2, 0, 0, 0, 0, 0, ...</td>\n",
       "    </tr>\n",
       "    <tr>\n",
       "      <th>270</th>\n",
       "      <td>ENST00000263967.4_179148566_179198789_78</td>\n",
       "      <td>c3riboseqorf168</td>\n",
       "      <td>super_uORF</td>\n",
       "      <td>translating</td>\n",
       "      <td>0.991147</td>\n",
       "      <td>15</td>\n",
       "      <td>78</td>\n",
       "      <td>5</td>\n",
       "      <td>0.192308</td>\n",
       "      <td>0.576923</td>\n",
       "      <td>ENST00000263967.4</td>\n",
       "      <td>protein_coding</td>\n",
       "      <td>ENSG00000121879.6</td>\n",
       "      <td>PIK3CA</td>\n",
       "      <td>protein_coding</td>\n",
       "      <td>chr3</td>\n",
       "      <td>+</td>\n",
       "      <td>ATG</td>\n",
       "      <td>[0, 0, 1, 3, 0, 0, 0, 0, 0, 0, 0, 0, 0, 0, 0, ...</td>\n",
       "    </tr>\n",
       "    <tr>\n",
       "      <th>34</th>\n",
       "      <td>ENST00000454000.6_21440311_21444993_84</td>\n",
       "      <td>c1norep50</td>\n",
       "      <td>super_uORF</td>\n",
       "      <td>translating</td>\n",
       "      <td>0.677174</td>\n",
       "      <td>15</td>\n",
       "      <td>84</td>\n",
       "      <td>5</td>\n",
       "      <td>0.178571</td>\n",
       "      <td>0.535714</td>\n",
       "      <td>ENST00000454000.6</td>\n",
       "      <td>protein_coding</td>\n",
       "      <td>ENSG00000142794.19</td>\n",
       "      <td>NBPF3</td>\n",
       "      <td>protein_coding</td>\n",
       "      <td>chr1</td>\n",
       "      <td>+</td>\n",
       "      <td>ATG</td>\n",
       "      <td>[2, 1, 0, 0, 0, 0, 2, 0, 0, 0, 0, 0, 3, 0, 0, ...</td>\n",
       "    </tr>\n",
       "    <tr>\n",
       "      <th>...</th>\n",
       "      <td>...</td>\n",
       "      <td>...</td>\n",
       "      <td>...</td>\n",
       "      <td>...</td>\n",
       "      <td>...</td>\n",
       "      <td>...</td>\n",
       "      <td>...</td>\n",
       "      <td>...</td>\n",
       "      <td>...</td>\n",
       "      <td>...</td>\n",
       "      <td>...</td>\n",
       "      <td>...</td>\n",
       "      <td>...</td>\n",
       "      <td>...</td>\n",
       "      <td>...</td>\n",
       "      <td>...</td>\n",
       "      <td>...</td>\n",
       "      <td>...</td>\n",
       "      <td>...</td>\n",
       "    </tr>\n",
       "    <tr>\n",
       "      <th>651</th>\n",
       "      <td>ENST00000256015.5_92145760_92145828_69</td>\n",
       "      <td>c12riboseqorf108</td>\n",
       "      <td>super_uORF</td>\n",
       "      <td>translating</td>\n",
       "      <td>0.696561</td>\n",
       "      <td>1886</td>\n",
       "      <td>69</td>\n",
       "      <td>19</td>\n",
       "      <td>0.826087</td>\n",
       "      <td>82.000000</td>\n",
       "      <td>ENST00000256015.5</td>\n",
       "      <td>protein_coding</td>\n",
       "      <td>ENSG00000133639.6</td>\n",
       "      <td>BTG1</td>\n",
       "      <td>protein_coding</td>\n",
       "      <td>chr12</td>\n",
       "      <td>-</td>\n",
       "      <td>ATG</td>\n",
       "      <td>[1089, 19, 13, 12, 0, 0, 15, 1, 17, 52, 3, 48,...</td>\n",
       "    </tr>\n",
       "    <tr>\n",
       "      <th>762</th>\n",
       "      <td>ENST00000674173.1_22838748_22838858_111</td>\n",
       "      <td>c15riboseqorf1</td>\n",
       "      <td>super_uORF</td>\n",
       "      <td>translating</td>\n",
       "      <td>0.672680</td>\n",
       "      <td>2124</td>\n",
       "      <td>111</td>\n",
       "      <td>30</td>\n",
       "      <td>0.810811</td>\n",
       "      <td>57.405405</td>\n",
       "      <td>ENST00000674173.1</td>\n",
       "      <td>protein_coding</td>\n",
       "      <td>ENSG00000140157.16</td>\n",
       "      <td>NIPA2</td>\n",
       "      <td>protein_coding</td>\n",
       "      <td>chr15</td>\n",
       "      <td>+</td>\n",
       "      <td>ATG</td>\n",
       "      <td>[356, 20, 2, 149, 17, 3, 70, 0, 1, 3, 0, 0, 70...</td>\n",
       "    </tr>\n",
       "    <tr>\n",
       "      <th>341</th>\n",
       "      <td>ENST00000506983.5_176361651_176361710_60</td>\n",
       "      <td>c5riboseqorf127</td>\n",
       "      <td>super_uORF</td>\n",
       "      <td>translating</td>\n",
       "      <td>0.847128</td>\n",
       "      <td>2274</td>\n",
       "      <td>60</td>\n",
       "      <td>16</td>\n",
       "      <td>0.800000</td>\n",
       "      <td>113.700000</td>\n",
       "      <td>ENST00000506983.5</td>\n",
       "      <td>protein_coding</td>\n",
       "      <td>ENSG00000122203.15</td>\n",
       "      <td>KIAA1191</td>\n",
       "      <td>protein_coding</td>\n",
       "      <td>chr5</td>\n",
       "      <td>-</td>\n",
       "      <td>ATG</td>\n",
       "      <td>[1195, 6, 87, 102, 4, 6, 60, 81, 2, 16, 0, 2, ...</td>\n",
       "    </tr>\n",
       "    <tr>\n",
       "      <th>135</th>\n",
       "      <td>ENST00000337288.10_96208547_96208630_84</td>\n",
       "      <td>c2riboseqorf66</td>\n",
       "      <td>super_uORF</td>\n",
       "      <td>translating</td>\n",
       "      <td>0.731404</td>\n",
       "      <td>2784</td>\n",
       "      <td>84</td>\n",
       "      <td>27</td>\n",
       "      <td>0.964286</td>\n",
       "      <td>99.428571</td>\n",
       "      <td>ENST00000337288.10</td>\n",
       "      <td>protein_coding</td>\n",
       "      <td>ENSG00000084090.14</td>\n",
       "      <td>STARD7</td>\n",
       "      <td>protein_coding</td>\n",
       "      <td>chr2</td>\n",
       "      <td>-</td>\n",
       "      <td>ATG</td>\n",
       "      <td>[227, 5, 10, 348, 103, 20, 883, 7, 156, 0, 0, ...</td>\n",
       "    </tr>\n",
       "    <tr>\n",
       "      <th>95</th>\n",
       "      <td>ENST00000367188.5_204411490_204411642_153</td>\n",
       "      <td>c1riboseqorf256</td>\n",
       "      <td>super_uORF</td>\n",
       "      <td>translating</td>\n",
       "      <td>0.799692</td>\n",
       "      <td>3170</td>\n",
       "      <td>153</td>\n",
       "      <td>43</td>\n",
       "      <td>0.843137</td>\n",
       "      <td>62.156863</td>\n",
       "      <td>ENST00000367188.5</td>\n",
       "      <td>protein_coding</td>\n",
       "      <td>ENSG00000158615.10</td>\n",
       "      <td>PPP1R15B</td>\n",
       "      <td>protein_coding</td>\n",
       "      <td>chr1</td>\n",
       "      <td>-</td>\n",
       "      <td>ATG</td>\n",
       "      <td>[568, 21, 11, 22, 0, 15, 165, 0, 2, 21, 1, 0, ...</td>\n",
       "    </tr>\n",
       "  </tbody>\n",
       "</table>\n",
       "<p>235 rows × 19 columns</p>\n",
       "</div>"
      ],
      "text/plain": [
       "                                        ORF_ID      Ribo-Seq_ORF    ORF_type  \\\n",
       "450     ENST00000522629.5_66775295_66793665_75    c8riboseqorf54  super_uORF   \n",
       "134    ENST00000263655.4_68319536_68319661_126         c2norep74  super_uORF   \n",
       "360     ENST00000469230.5_26383211_26383270_60    c6riboseqorf20  super_uORF   \n",
       "270   ENST00000263967.4_179148566_179198789_78   c3riboseqorf168  super_uORF   \n",
       "34      ENST00000454000.6_21440311_21444993_84         c1norep50  super_uORF   \n",
       "..                                         ...               ...         ...   \n",
       "651     ENST00000256015.5_92145760_92145828_69  c12riboseqorf108  super_uORF   \n",
       "762    ENST00000674173.1_22838748_22838858_111    c15riboseqorf1  super_uORF   \n",
       "341   ENST00000506983.5_176361651_176361710_60   c5riboseqorf127  super_uORF   \n",
       "135    ENST00000337288.10_96208547_96208630_84    c2riboseqorf66  super_uORF   \n",
       "95   ENST00000367188.5_204411490_204411642_153   c1riboseqorf256  super_uORF   \n",
       "\n",
       "          status  phase_score  read_count  length  valid_codons  \\\n",
       "450  translating     0.721110          12      75             5   \n",
       "134  translating     1.000000          14     126             6   \n",
       "360  translating     0.978329          14      60             5   \n",
       "270  translating     0.991147          15      78             5   \n",
       "34   translating     0.677174          15      84             5   \n",
       "..           ...          ...         ...     ...           ...   \n",
       "651  translating     0.696561        1886      69            19   \n",
       "762  translating     0.672680        2124     111            30   \n",
       "341  translating     0.847128        2274      60            16   \n",
       "135  translating     0.731404        2784      84            27   \n",
       "95   translating     0.799692        3170     153            43   \n",
       "\n",
       "     valid_codons_ratio  read_density       transcript_id transcript_type  \\\n",
       "450            0.200000      0.480000   ENST00000522629.5  protein_coding   \n",
       "134            0.142857      0.333333   ENST00000263655.4  protein_coding   \n",
       "360            0.250000      0.700000   ENST00000469230.5  protein_coding   \n",
       "270            0.192308      0.576923   ENST00000263967.4  protein_coding   \n",
       "34             0.178571      0.535714   ENST00000454000.6  protein_coding   \n",
       "..                  ...           ...                 ...             ...   \n",
       "651            0.826087     82.000000   ENST00000256015.5  protein_coding   \n",
       "762            0.810811     57.405405   ENST00000674173.1  protein_coding   \n",
       "341            0.800000    113.700000   ENST00000506983.5  protein_coding   \n",
       "135            0.964286     99.428571  ENST00000337288.10  protein_coding   \n",
       "95             0.843137     62.156863   ENST00000367188.5  protein_coding   \n",
       "\n",
       "                gene_id gene_name       gene_type  chrom strand start_codon  \\\n",
       "450  ENSG00000104205.16      SGK3  protein_coding   chr8      +         ATG   \n",
       "134   ENSG00000119865.9    CNRIP1  protein_coding   chr2      -         ATG   \n",
       "360  ENSG00000124508.17    BTN2A2  protein_coding   chr6      +         ATG   \n",
       "270   ENSG00000121879.6    PIK3CA  protein_coding   chr3      +         ATG   \n",
       "34   ENSG00000142794.19     NBPF3  protein_coding   chr1      +         ATG   \n",
       "..                  ...       ...             ...    ...    ...         ...   \n",
       "651   ENSG00000133639.6      BTG1  protein_coding  chr12      -         ATG   \n",
       "762  ENSG00000140157.16     NIPA2  protein_coding  chr15      +         ATG   \n",
       "341  ENSG00000122203.15  KIAA1191  protein_coding   chr5      -         ATG   \n",
       "135  ENSG00000084090.14    STARD7  protein_coding   chr2      -         ATG   \n",
       "95   ENSG00000158615.10  PPP1R15B  protein_coding   chr1      -         ATG   \n",
       "\n",
       "                                               profile  \n",
       "450  [0, 0, 0, 0, 0, 0, 0, 0, 0, 0, 0, 0, 0, 0, 0, ...  \n",
       "134  [0, 1, 0, 0, 0, 0, 1, 0, 0, 2, 0, 0, 0, 0, 0, ...  \n",
       "360  [1, 0, 0, 0, 0, 0, 0, 0, 0, 2, 0, 0, 0, 0, 0, ...  \n",
       "270  [0, 0, 1, 3, 0, 0, 0, 0, 0, 0, 0, 0, 0, 0, 0, ...  \n",
       "34   [2, 1, 0, 0, 0, 0, 2, 0, 0, 0, 0, 0, 3, 0, 0, ...  \n",
       "..                                                 ...  \n",
       "651  [1089, 19, 13, 12, 0, 0, 15, 1, 17, 52, 3, 48,...  \n",
       "762  [356, 20, 2, 149, 17, 3, 70, 0, 1, 3, 0, 0, 70...  \n",
       "341  [1195, 6, 87, 102, 4, 6, 60, 81, 2, 16, 0, 2, ...  \n",
       "135  [227, 5, 10, 348, 103, 20, 883, 7, 156, 0, 0, ...  \n",
       "95   [568, 21, 11, 22, 0, 15, 165, 0, 2, 21, 1, 0, ...  \n",
       "\n",
       "[235 rows x 19 columns]"
      ]
     },
     "execution_count": 8,
     "metadata": {},
     "output_type": "execute_result"
    }
   ],
   "source": [
    "rs_rt_ribo.sort_values('read_count')"
   ]
  },
  {
   "cell_type": "code",
   "execution_count": null,
   "id": "2d2c521e-7990-4647-a943-3879687b9589",
   "metadata": {},
   "outputs": [],
   "source": []
  },
  {
   "cell_type": "code",
   "execution_count": null,
   "id": "576192d1-145a-4d4b-a077-8598254063b6",
   "metadata": {},
   "outputs": [],
   "source": []
  }
 ],
 "metadata": {
  "kernelspec": {
   "display_name": "Python 3 (ipykernel)",
   "language": "python",
   "name": "python3"
  },
  "language_info": {
   "codemirror_mode": {
    "name": "ipython",
    "version": 3
   },
   "file_extension": ".py",
   "mimetype": "text/x-python",
   "name": "python",
   "nbconvert_exporter": "python",
   "pygments_lexer": "ipython3",
   "version": "3.12.7"
  }
 },
 "nbformat": 4,
 "nbformat_minor": 5
}
